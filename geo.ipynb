{
 "cells": [
  {
   "cell_type": "code",
   "execution_count": 1,
   "metadata": {},
   "outputs": [
    {
     "name": "stderr",
     "output_type": "stream",
     "text": [
      "\u001b[1;31mError: Function definition not supported in this context. Create functions in code file.\n",
      "\n",
      "\u001b[0m"
     ]
    }
   ],
   "source": [
    "\n",
    "function [ J ] = geo(N,s,w);\n",
    "\n",
    "    l = 20;\n",
    "\n",
    "    J = ones(N,N); \n",
    "    e = N/6;            % Positioning the wells (e,f are coordinatines in J) \n",
    "    e = int16(fix(e)); \n",
    "    f = N-e; \n",
    "    J = J.*s;          % setting sorrounding material properties to 'es' \n",
    "    len = l;           % Size of the wells \n",
    "\n",
    "    J(e:e+len,e:e+len)   = w;     % Well 1 material properties \n",
    "    J(f-len:f,f-len:f)   = w;     % Well 2 material properties \n",
    "    J(e:e+len,f-len:f)   = w;     % Well 3 material properties \n",
    "    J(f-len:f,e:e+len)   = w;     % Well 4 material properties  \n",
    "\n",
    "end"
   ]
  },
  {
   "cell_type": "code",
   "execution_count": null,
   "metadata": {},
   "outputs": [],
   "source": []
  }
 ],
 "metadata": {
  "kernelspec": {
   "display_name": "Matlab",
   "language": "matlab",
   "name": "matlab"
  },
  "language_info": {
   "codemirror_mode": "octave",
   "file_extension": ".m",
   "help_links": [
    {
     "text": "MetaKernel Magics",
     "url": "https://github.com/calysto/metakernel/blob/master/metakernel/magics/README.md"
    }
   ],
   "mimetype": "text/x-octave",
   "name": "matlab",
   "version": "0.15.0"
  }
 },
 "nbformat": 4,
 "nbformat_minor": 2
}
